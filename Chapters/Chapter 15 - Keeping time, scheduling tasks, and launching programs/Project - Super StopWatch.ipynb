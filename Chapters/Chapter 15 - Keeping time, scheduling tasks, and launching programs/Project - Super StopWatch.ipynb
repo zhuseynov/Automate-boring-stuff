{
 "cells": [
  {
   "cell_type": "code",
   "execution_count": 7,
   "metadata": {},
   "outputs": [
    {
     "name": "stdout",
     "output_type": "stream",
     "text": [
      "Press ENTER to begin. Afterwards, press ENTER to \"click\" the stopwatch. Press Ctrl-C to quit.\n",
      "\n",
      "Started.\n",
      "\n",
      "Lap #  1    0.49     0.49\n",
      "Lap #  2    0.42     0.92\n",
      "Lap #  3    0.36     1.28\n",
      "Lap #  4     0.3     1.58\n",
      "Lap #  5    0.28     1.87\n",
      "Lap #  6     0.3     2.17\n",
      "Lap #  7    0.27     2.43\n",
      "Lap #  8     0.3     2.73\n",
      "Lap #  9    0.36      3.1\n",
      "Lap # 10    0.33     3.43\n",
      "Lap # 11    0.46     3.89\n",
      "Lap # 12    0.27     4.15\n",
      "Lap # 13    0.28     4.43\n",
      "Lap # 14    0.22     4.65\n",
      "Lap # 15    0.23     4.89\n",
      "Lap # 16    0.23     5.12\n",
      "Lap # 17    0.23     5.35\n",
      "Lap # 18    0.22     5.57\n",
      "Lap # 19    0.22     5.79\n",
      "Lap # 20    0.16     5.94\n",
      "Lap # 21     0.2     6.14\n",
      "Lap # 22     0.2     6.34\n",
      "Lap # 23    0.18     6.52\n",
      "Lap # 24     0.2     6.72\n",
      "Lap # 25    0.51     7.23\n",
      "Lap # 26    0.01     7.24\n",
      "Lap # 27    0.02     7.27\n",
      "Lap # 28    0.03      7.3\n",
      "Lap # 29    0.03     7.33\n",
      "Lap # 30    0.03     7.36\n",
      "Lap # 31    0.03      7.4\n",
      "Lap # 32    0.03     7.43\n",
      "Lap # 33    0.03     7.46\n",
      "Lap # 34    0.03      7.5\n",
      "Lap # 35    0.03     7.53\n",
      "Lap # 36    0.03     7.56\n",
      "Lap # 37    0.71     8.27\n",
      "Lap # 38     0.5     8.77\n",
      "Lap # 39    0.01     8.78\n",
      "Lap # 40    0.02      8.8\n",
      "Lap # 41    0.03     8.83\n",
      "Lap # 42    0.03     8.86\n",
      "Lap # 43    0.03      8.9\n",
      "Lap # 44    0.03     8.93\n",
      "Lap # 45    0.03     8.96\n",
      "Lap # 46    0.03      9.0\n",
      "Lap # 47    0.03     9.03\n",
      "Lap # 48    0.03     9.06\n",
      "Lap # 49    0.04      9.1\n",
      "\n",
      "Done\n"
     ]
    }
   ],
   "source": [
    "import time\n",
    "print('Press ENTER to begin. Afterwards, press ENTER to \"click\" the stopwatch. Press Ctrl-C to quit.')\n",
    "input()\n",
    "print('Started.')\n",
    "startTime = time.time()\n",
    "lastTime = startTime\n",
    "lapNum = 1\n",
    "\n",
    "# Start tracking the lap times.\n",
    "try:\n",
    "    while True:\n",
    "        input()\n",
    "        lapTime = round(time.time() - lastTime, 2)\n",
    "        totalTime = round(time.time() - startTime, 2)\n",
    "        print('Lap #',str(lapNum).rjust(2,' '), str(lapTime).rjust(7,' '), str(totalTime).rjust(8,' '), end = '')\n",
    "        lapNum += 1\n",
    "        lastTime = time.time() # reset the last lap time\n",
    "except KeyboardInterrupt:\n",
    "    print('\\nDone')"
   ]
  },
  {
   "cell_type": "code",
   "execution_count": null,
   "metadata": {},
   "outputs": [],
   "source": []
  }
 ],
 "metadata": {
  "kernelspec": {
   "display_name": "Python 3",
   "language": "python",
   "name": "python3"
  },
  "language_info": {
   "codemirror_mode": {
    "name": "ipython",
    "version": 3
   },
   "file_extension": ".py",
   "mimetype": "text/x-python",
   "name": "python",
   "nbconvert_exporter": "python",
   "pygments_lexer": "ipython3",
   "version": "3.6.1"
  }
 },
 "nbformat": 4,
 "nbformat_minor": 2
}
