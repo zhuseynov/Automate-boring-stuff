{
 "cells": [
  {
   "cell_type": "code",
   "execution_count": 1,
   "metadata": {},
   "outputs": [],
   "source": [
    "import csv"
   ]
  },
  {
   "cell_type": "markdown",
   "metadata": {},
   "source": [
    "### Reading Objects"
   ]
  },
  {
   "cell_type": "code",
   "execution_count": 4,
   "metadata": {},
   "outputs": [
    {
     "data": {
      "text/plain": [
       "[['4/5/2014 13:34', 'Apples', '73'],\n",
       " ['4/5/2014 3:41', 'Cherries', '85'],\n",
       " ['4/6/2014 12:46', 'Pears', '14'],\n",
       " ['4/8/2014 8:59', 'Oranges', '52'],\n",
       " ['4/10/2014 2:07', 'Apples', '152'],\n",
       " ['4/10/2014 18:10', 'Bananas', '23'],\n",
       " ['4/10/2014 2:40', 'Strawberries', '98']]"
      ]
     },
     "execution_count": 4,
     "metadata": {},
     "output_type": "execute_result"
    }
   ],
   "source": [
    "exampleFile = open('example.csv')\n",
    "exampleReader = csv.reader(exampleFile)\n",
    "exampleData = list(exampleReader)\n",
    "exampleData"
   ]
  },
  {
   "cell_type": "code",
   "execution_count": 5,
   "metadata": {},
   "outputs": [
    {
     "data": {
      "text/plain": [
       "'4/5/2014 13:34'"
      ]
     },
     "execution_count": 5,
     "metadata": {},
     "output_type": "execute_result"
    }
   ],
   "source": [
    "exampleData[0][0]"
   ]
  },
  {
   "cell_type": "code",
   "execution_count": 6,
   "metadata": {},
   "outputs": [
    {
     "data": {
      "text/plain": [
       "'Apples'"
      ]
     },
     "execution_count": 6,
     "metadata": {},
     "output_type": "execute_result"
    }
   ],
   "source": [
    "exampleData[0][1]"
   ]
  },
  {
   "cell_type": "code",
   "execution_count": 7,
   "metadata": {},
   "outputs": [
    {
     "data": {
      "text/plain": [
       "'73'"
      ]
     },
     "execution_count": 7,
     "metadata": {},
     "output_type": "execute_result"
    }
   ],
   "source": [
    "exampleData[0][2]"
   ]
  },
  {
   "cell_type": "markdown",
   "metadata": {},
   "source": [
    "### Reading Data from Reader Object in a for Loop"
   ]
  },
  {
   "cell_type": "code",
   "execution_count": 17,
   "metadata": {},
   "outputs": [],
   "source": [
    "for row in exampleReader:\n",
    "    print('Row #' + str(exampleReader.line_num) + ' ' + str(row))       #in IDLE row are displayed"
   ]
  },
  {
   "cell_type": "markdown",
   "metadata": {},
   "source": [
    "### Writer Objects"
   ]
  },
  {
   "cell_type": "code",
   "execution_count": 19,
   "metadata": {},
   "outputs": [],
   "source": [
    "outputFile = open('output.csv', 'w', newline='')\n",
    "outputWriter = csv.writer(outputFile)\n",
    "outputWriter.writerow(['spam', 'eggs', 'bacon', 'ham'])\n",
    "outputWriter.writerow(['Hello, world!', 'eggs', 'bacon', 'ham'])\n",
    "outputWriter.writerow([1, 2, 4, 3.01745])\n",
    "outputFile.close()"
   ]
  },
  {
   "cell_type": "markdown",
   "metadata": {},
   "source": [
    "### The delimiter and lineterminator Keyword Arguments"
   ]
  },
  {
   "cell_type": "code",
   "execution_count": 22,
   "metadata": {},
   "outputs": [],
   "source": [
    "csvFile = open('example.tsv', 'w', newline='')\n",
    "csvWriter = csv.writer(csvFile, delimiter='\\t', lineterminator='\\n\\n')\n",
    "csvWriter.writerow(['eggs', 'bacon', 'ham'])\n",
    "csvWriter.writerow(['spam', 'spam', 'spam', 'spam', 'spam', 'spam'])\n",
    "csvFile.close()"
   ]
  },
  {
   "cell_type": "markdown",
   "metadata": {},
   "source": [
    "# Project: Removing the Header from CSV Files"
   ]
  },
  {
   "cell_type": "code",
   "execution_count": 23,
   "metadata": {},
   "outputs": [],
   "source": [
    "import os"
   ]
  },
  {
   "cell_type": "code",
   "execution_count": 24,
   "metadata": {},
   "outputs": [],
   "source": [
    "os.makedirs('headerRemoved', exist_ok=True)"
   ]
  },
  {
   "cell_type": "code",
   "execution_count": 26,
   "metadata": {},
   "outputs": [
    {
     "name": "stdout",
     "output_type": "stream",
     "text": [
      "Removing header from delivery2.csv...\n",
      "Removing header from example.csv...\n",
      "Removing header from output.csv...\n"
     ]
    }
   ],
   "source": [
    "# Loop through every file in the current working directory\n",
    "for csvFilename in os.listdir('.'):\n",
    "    if not csvFilename.endswith('.csv'):\n",
    "        continue     #skip non-csv files\n",
    "    print('Removing header from ' + csvFilename + '...')\n",
    "    \n",
    "    # Read the CSV file in (skipping first row).\n",
    "    csvRows = []\n",
    "    csvFileObj = open(csvFilename)\n",
    "    readerObj = csv.reader(csvFileObj)\n",
    "    for row in readerObj:\n",
    "        if readerObj.line_num == 1:\n",
    "            continue        # skip first row\n",
    "        csvRows.append(row)\n",
    "    csvFileObj.close()\n",
    "    \n",
    "    # Write out the CSV file.\n",
    "    csvFileObj = open(os.path.join('headerRemoved', csvFilename), 'w', newline='')\n",
    "    csvWriter = csv.writer(csvFileObj)\n",
    "    for row in csvRows:\n",
    "        csvWriter.writerow(row)\n",
    "    csvFileObj.close()"
   ]
  },
  {
   "cell_type": "markdown",
   "metadata": {},
   "source": [
    "## The JSON Module"
   ]
  },
  {
   "cell_type": "markdown",
   "metadata": {},
   "source": [
    "### Reading JSON with the loads() Function"
   ]
  },
  {
   "cell_type": "code",
   "execution_count": 27,
   "metadata": {},
   "outputs": [],
   "source": [
    "stringOfJsonData = '{\"name\": \"Zophie\", \"isCat\": true, \"miceCaught\": 0, \"felineIQ\": null}'"
   ]
  },
  {
   "cell_type": "code",
   "execution_count": 28,
   "metadata": {},
   "outputs": [],
   "source": [
    "import json"
   ]
  },
  {
   "cell_type": "code",
   "execution_count": 29,
   "metadata": {},
   "outputs": [
    {
     "data": {
      "text/plain": [
       "{'felineIQ': None, 'isCat': True, 'miceCaught': 0, 'name': 'Zophie'}"
      ]
     },
     "execution_count": 29,
     "metadata": {},
     "output_type": "execute_result"
    }
   ],
   "source": [
    "jsonDataAsPythonValue = json.loads(stringOfJsonData)\n",
    "jsonDataAsPythonValue"
   ]
  },
  {
   "cell_type": "markdown",
   "metadata": {},
   "source": [
    "### Writing JSON with the dumps() Fucntion"
   ]
  },
  {
   "cell_type": "code",
   "execution_count": 30,
   "metadata": {},
   "outputs": [
    {
     "data": {
      "text/plain": [
       "'{\"isCat\": true, \"miceCaught\": 0, \"name\": \"Zophie\", \"felineIQ\": null}'"
      ]
     },
     "execution_count": 30,
     "metadata": {},
     "output_type": "execute_result"
    }
   ],
   "source": [
    "pythonValue = {'isCat': True, 'miceCaught': 0, 'name': 'Zophie', 'felineIQ': None}\n",
    "stringOfJsonData = json.dumps(pythonValue)\n",
    "stringOfJsonData"
   ]
  },
  {
   "cell_type": "markdown",
   "metadata": {},
   "source": [
    "# Project: Fetching Current Weather Data"
   ]
  },
  {
   "cell_type": "code",
   "execution_count": 45,
   "metadata": {},
   "outputs": [],
   "source": [
    "import requests, sys, pprint"
   ]
  },
  {
   "cell_type": "code",
   "execution_count": 66,
   "metadata": {},
   "outputs": [
    {
     "name": "stdout",
     "output_type": "stream",
     "text": [
      "Current weather in Baku\n",
      "Clouds - broken clouds\n",
      "Max Temperature - 31.1\n"
     ]
    }
   ],
   "source": [
    "# Compute location from command line arguments.\n",
    "# if len(sys.argv) < 2:\n",
    "#     print('Usage: quickWeather.py location')\n",
    "#     sys.exit()\n",
    "# location = ' '.join(sys.argv[1:])\n",
    "\n",
    "location = '587084'\n",
    "\n",
    "# Download the JSON data from OpenWeatherMap.org's API.\n",
    "url = 'http://api.openweathermap.org/data/2.5/forecast?id=%s&units=metric&appid=3a801c6e0e9bed7775a8c6450e0f30d8' % (location)\n",
    "response = requests.get(url)\n",
    "response.raise_for_status()\n",
    "\n",
    "# Load JSON data into a Python variable.\n",
    "weatherData = json.loads(response.text)\n",
    "\n",
    "# Print weather description.\n",
    "w = weatherData['list']\n",
    "print('Current weather in %s' % weatherData['city']['name'])\n",
    "print(w[0]['weather'][0]['main'], '-', w[0]['weather'][0]['description'])\n",
    "print('Max Temperature -', str(w[0]['main']['temp_max']))\n"
   ]
  },
  {
   "cell_type": "code",
   "execution_count": 68,
   "metadata": {},
   "outputs": [
    {
     "data": {
      "text/plain": [
       "{'clouds': {'all': 20},\n",
       " 'dt': 1533816000,\n",
       " 'dt_txt': '2018-08-09 12:00:00',\n",
       " 'main': {'grnd_level': 1018.32,\n",
       "  'humidity': 72,\n",
       "  'pressure': 1018.32,\n",
       "  'sea_level': 1019.05,\n",
       "  'temp': 30.06,\n",
       "  'temp_kf': 0,\n",
       "  'temp_max': 30.06,\n",
       "  'temp_min': 30.06},\n",
       " 'sys': {'pod': 'd'},\n",
       " 'weather': [{'description': 'few clouds',\n",
       "   'icon': '02d',\n",
       "   'id': 801,\n",
       "   'main': 'Clouds'}],\n",
       " 'wind': {'deg': 20.5029, 'speed': 10.07}}"
      ]
     },
     "execution_count": 68,
     "metadata": {},
     "output_type": "execute_result"
    }
   ],
   "source": [
    "w[7]"
   ]
  }
 ],
 "metadata": {
  "kernelspec": {
   "display_name": "Python 3",
   "language": "python",
   "name": "python3"
  },
  "language_info": {
   "codemirror_mode": {
    "name": "ipython",
    "version": 3
   },
   "file_extension": ".py",
   "mimetype": "text/x-python",
   "name": "python",
   "nbconvert_exporter": "python",
   "pygments_lexer": "ipython3",
   "version": "3.6.1"
  }
 },
 "nbformat": 4,
 "nbformat_minor": 2
}
