{
 "cells": [
  {
   "cell_type": "code",
   "execution_count": 1,
   "metadata": {},
   "outputs": [],
   "source": [
    "import os\n",
    "from PIL import Image"
   ]
  },
  {
   "cell_type": "code",
   "execution_count": 2,
   "metadata": {},
   "outputs": [],
   "source": [
    "SQUIRE_FIT_SIZE = 300\n",
    "LOGO_FILENAME = 'catlogo.png'"
   ]
  },
  {
   "cell_type": "code",
   "execution_count": 17,
   "metadata": {},
   "outputs": [],
   "source": [
    "logoIm = Image.open('catlogo.png')\n",
    "logoWidth, logoHeight = logoIm.size"
   ]
  },
  {
   "cell_type": "code",
   "execution_count": 4,
   "metadata": {},
   "outputs": [],
   "source": [
    "os.makedirs('withLogo', exist_ok=True)"
   ]
  },
  {
   "cell_type": "code",
   "execution_count": 16,
   "metadata": {},
   "outputs": [
    {
     "name": "stdout",
     "output_type": "stream",
     "text": [
      "Resizing ajilden_blossom.jpg ...\n",
      "Adding logo to ajilden_blossom.jpg ...\n",
      "Resizing gmccurdy_nature_in_red.jpg ...\n",
      "Adding logo to gmccurdy_nature_in_red.jpg ...\n",
      "Resizing jenemark_conifer_cone.jpg ...\n",
      "Adding logo to jenemark_conifer_cone.jpg ...\n",
      "Resizing zophie.png ...\n",
      "Adding logo to zophie.png ...\n"
     ]
    }
   ],
   "source": [
    "# Loop over all files in the working directory\n",
    "for filename in os.listdir('.'):\n",
    "    if not(filename.endswith('.png') or filename.endswith('.jpg')) \\\n",
    "            or filename == LOGO_FILENAME:\n",
    "        continue   # skip non-image files and the logo file itself\n",
    "    im = Image.open(filename)\n",
    "    width, height = im.size\n",
    "    \n",
    "    # Check if image needs to be resized.\n",
    "    if width > SQUIRE_FIT_SIZE and height > SQUIRE_FIT_SIZE:\n",
    "        #Calculate the new width and height to resize to.\n",
    "        if width > height:\n",
    "            height = int((SQUIRE_FIT_SIZE / width) * height)\n",
    "            width = SQUIRE_FIT_SIZE\n",
    "        else:\n",
    "            width = int((SQUIRE_FIT_SIZE / height) * width)\n",
    "            height = SQUIRE_FIT_SIZE\n",
    "            \n",
    "        # Resize the image.\n",
    "        print('Resizing %s ...' % (filename))\n",
    "        im = im.resize((width, height))\n",
    "        \n",
    "        # Add the logo.\n",
    "        print('Adding logo to %s ...' % (filename))\n",
    "        im.paste(logoIm, (width - logoWidth, height - logoHeight), logoIm)\n",
    "        \n",
    "        # Save changes.\n",
    "        im.save(os.path.join('withLogo', filename))"
   ]
  },
  {
   "cell_type": "code",
   "execution_count": null,
   "metadata": {},
   "outputs": [],
   "source": []
  }
 ],
 "metadata": {
  "kernelspec": {
   "display_name": "Python 3",
   "language": "python",
   "name": "python3"
  },
  "language_info": {
   "codemirror_mode": {
    "name": "ipython",
    "version": 3
   },
   "file_extension": ".py",
   "mimetype": "text/x-python",
   "name": "python",
   "nbconvert_exporter": "python",
   "pygments_lexer": "ipython3",
   "version": "3.6.1"
  }
 },
 "nbformat": 4,
 "nbformat_minor": 2
}
