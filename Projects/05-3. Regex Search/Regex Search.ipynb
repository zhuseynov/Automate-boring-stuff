{
 "cells": [
  {
   "cell_type": "code",
   "execution_count": 41,
   "metadata": {},
   "outputs": [],
   "source": [
    "import re, os, codecs"
   ]
  },
  {
   "cell_type": "code",
   "execution_count": 42,
   "metadata": {},
   "outputs": [],
   "source": [
    "listOfFiles = os.listdir()"
   ]
  },
  {
   "cell_type": "code",
   "execution_count": 43,
   "metadata": {},
   "outputs": [],
   "source": [
    "txtFiles = re.compile('\\w+.txt')"
   ]
  },
  {
   "cell_type": "code",
   "execution_count": 44,
   "metadata": {},
   "outputs": [],
   "source": [
    "# To select only txt files from working directory\n",
    "txtFilesList = []\n",
    "for file in os.listdir():\n",
    "    if txtFiles.search(file) != None:\n",
    "        txtFilesList.append(file)"
   ]
  },
  {
   "cell_type": "code",
   "execution_count": 73,
   "metadata": {},
   "outputs": [],
   "source": [
    "upperCase = re.compile(r'[A-Z]{4,}')"
   ]
  },
  {
   "cell_type": "code",
   "execution_count": 74,
   "metadata": {},
   "outputs": [
    {
     "name": "stdout",
     "output_type": "stream",
     "text": [
      "barcelona.txt\n",
      "['BARCELONA', 'XVII', 'XVIII', 'VIII', 'XIII', 'XIII', 'XVIII', 'RENFE', 'XVIII', 'ISBN']\n",
      "paris.txt\n",
      "['REGION', 'COORDINATES', 'INSEE', 'XIII', 'XIII', 'XVII', 'XVII', 'XVIII', 'AIRPARIF', 'XVIII', 'RATP', 'SNCF', 'SNCF', 'XVII', 'XVIII', 'XVIII', 'ISBN', 'INSEE', 'INSEE', 'ISBN', 'RATP', 'STIF', 'CAHIER', 'CHARGES', 'REGIE', 'AUTONOME', 'TRANSPORTS', 'PARISIENS', 'STIF', 'LEXPRESS', 'TURIZM', 'ISBN', 'ISBN', 'ISBN', 'ISBN', 'APUR', 'AIGP', 'ISNI', 'LCCN', 'SUDOC', 'VIAF']\n"
     ]
    }
   ],
   "source": [
    "for file in txtFilesList:\n",
    "    print(file)\n",
    "    with codecs.open(file, \"r\",encoding='utf-8', errors='ignore') as fdata:\n",
    "        text = fdata.read()\n",
    "        print(upperCase.findall(text))"
   ]
  }
 ],
 "metadata": {
  "kernelspec": {
   "display_name": "Python 3",
   "language": "python",
   "name": "python3"
  },
  "language_info": {
   "codemirror_mode": {
    "name": "ipython",
    "version": 3
   },
   "file_extension": ".py",
   "mimetype": "text/x-python",
   "name": "python",
   "nbconvert_exporter": "python",
   "pygments_lexer": "ipython3",
   "version": "3.6.0"
  }
 },
 "nbformat": 4,
 "nbformat_minor": 2
}
