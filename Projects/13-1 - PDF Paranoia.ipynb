{
 "cells": [
  {
   "cell_type": "code",
   "execution_count": 1,
   "metadata": {},
   "outputs": [],
   "source": [
    "import os, PyPDF2"
   ]
  },
  {
   "cell_type": "code",
   "execution_count": 5,
   "metadata": {},
   "outputs": [
    {
     "data": {
      "text/plain": [
       "'C:\\\\Users\\\\zhuseynov\\\\Documents\\\\GitHub\\\\Automate-boring-stuff\\\\Projects'"
      ]
     },
     "execution_count": 5,
     "metadata": {},
     "output_type": "execute_result"
    }
   ],
   "source": [
    "os.getcwd()"
   ]
  },
  {
   "cell_type": "code",
   "execution_count": 6,
   "metadata": {},
   "outputs": [
    {
     "data": {
      "text/plain": [
       "<generator object walk at 0x040E0AB0>"
      ]
     },
     "execution_count": 6,
     "metadata": {},
     "output_type": "execute_result"
    }
   ],
   "source": [
    "os.walk('.\\PDFs')"
   ]
  },
  {
   "cell_type": "code",
   "execution_count": 7,
   "metadata": {},
   "outputs": [
    {
     "name": "stdout",
     "output_type": "stream",
     "text": [
      "Filename: .\\PDFs['meetingminutes.pdf', 'meetingminutes2.pdf', 'test2.xlsx']\n",
      "------------\n",
      "Filename: .\\PDFs\\folder 2['rotatedPage.pdf', 'text.xlsx']\n",
      "------------\n",
      "Filename: .\\PDFs\\folder 2\\Folder 3['watermark.pdf']\n",
      "------------\n"
     ]
    }
   ],
   "source": [
    "for folder, subfolder, filename in os.walk('.\\PDFs'):\n",
    "    print('Filename: {}{}'.format(folder,filename))\n",
    "    print('------------')"
   ]
  },
  {
   "cell_type": "code",
   "execution_count": 2,
   "metadata": {},
   "outputs": [
    {
     "name": "stdout",
     "output_type": "stream",
     "text": [
      "meetingminutes.pdf\n",
      "meetingminutes.pdf encrypted correctly\n",
      "meetingminutes2.pdf\n",
      "meetingminutes2.pdf encrypted correctly\n",
      "test2.xlsx\n",
      "text.xlsx\n",
      "watermark.pdf\n",
      "watermark.pdf encrypted correctly\n",
      "allminutes.pdf\n",
      "allminutes.pdf encrypted correctly\n"
     ]
    }
   ],
   "source": [
    "# write a script that will go through every PDF in a folder\n",
    "for folder, subfolders, filenames in os.walk('.\\PDFs'):\n",
    "    # encrypt the PDFs using a password\n",
    "    for file in filenames:\n",
    "        print(file)\n",
    "        if file.endswith('.pdf'):\n",
    "            pdfFile = open(os.path.join(folder,file), 'rb')\n",
    "            pdfReader = PyPDF2.PdfFileReader(pdfFile)\n",
    "            pdfWriter = PyPDF2.PdfFileWriter()\n",
    "            for pageNum in range(pdfReader.numPages):\n",
    "                pdfWriter.addPage(pdfReader.getPage(pageNum))\n",
    "            pdfWriter.encrypt('password')\n",
    "            # save each encrypted PDF wuth an \"_encrypted.pdf\" suffix\n",
    "            resultPdf = open(os.path.join(folder,file.split('.')[0] + '_encrypted.pdf'), 'wb')\n",
    "            pdfWriter.write(resultPdf)\n",
    "            resultPdf.close()\n",
    "            pdfFile.close()\n",
    "            # decrypt the file to ensure that it was encrypted correctly\n",
    "            pdfReader = PyPDF2.PdfFileReader(open(os.path.join(folder,file.split('.')[0] + '_encrypted.pdf'),'rb'))\n",
    "            if pdfReader.isEncrypted:\n",
    "                print('{} encrypted correctly'.format(file))\n",
    "                # delete the original file\n",
    "                os.unlink(os.path.join(folder,file))\n",
    "            else:\n",
    "                print('{} is not encrypted correctly'.format(file))"
   ]
  },
  {
   "cell_type": "code",
   "execution_count": null,
   "metadata": {},
   "outputs": [],
   "source": []
  }
 ],
 "metadata": {
  "kernelspec": {
   "display_name": "Python 3",
   "language": "python",
   "name": "python3"
  },
  "language_info": {
   "codemirror_mode": {
    "name": "ipython",
    "version": 3
   },
   "file_extension": ".py",
   "mimetype": "text/x-python",
   "name": "python",
   "nbconvert_exporter": "python",
   "pygments_lexer": "ipython3",
   "version": "3.6.1"
  }
 },
 "nbformat": 4,
 "nbformat_minor": 2
}
