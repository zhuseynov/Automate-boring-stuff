{
 "cells": [
  {
   "cell_type": "markdown",
   "metadata": {},
   "source": [
    "## Open the Excel File"
   ]
  },
  {
   "cell_type": "code",
   "execution_count": 16,
   "metadata": {},
   "outputs": [],
   "source": [
    "import openpyxl, smtplib"
   ]
  },
  {
   "cell_type": "code",
   "execution_count": 17,
   "metadata": {},
   "outputs": [],
   "source": [
    "# Open the spreadsheet and get the latest dues status.\n",
    "\n",
    "wb = openpyxl.load_workbook('D:/Documents/GitHub/Automate-boring-stuff/Projects/duesRecords.xlsx')"
   ]
  },
  {
   "cell_type": "code",
   "execution_count": 18,
   "metadata": {},
   "outputs": [],
   "source": [
    "sheet = wb['Sheet1']"
   ]
  },
  {
   "cell_type": "code",
   "execution_count": 19,
   "metadata": {},
   "outputs": [],
   "source": [
    "lastCol = sheet.max_column"
   ]
  },
  {
   "cell_type": "code",
   "execution_count": 20,
   "metadata": {},
   "outputs": [],
   "source": [
    "latestMonth = sheet.cell(row=1, column=lastCol).value"
   ]
  },
  {
   "cell_type": "code",
   "execution_count": 21,
   "metadata": {},
   "outputs": [],
   "source": [
    "unpaidMembers = {}"
   ]
  },
  {
   "cell_type": "code",
   "execution_count": 22,
   "metadata": {},
   "outputs": [],
   "source": [
    "for r in range(2, sheet.max_row + 1):\n",
    "    payment = sheet.cell(row=r, column=lastCol).value\n",
    "    if payment != 'paid':\n",
    "        name = sheet.cell(row=r, column=1).value\n",
    "        email = sheet.cell(row=r, column=2).value\n",
    "        unpaidMembers[name] = email"
   ]
  },
  {
   "cell_type": "code",
   "execution_count": 28,
   "metadata": {},
   "outputs": [
    {
     "data": {
      "text/plain": [
       "(235, b'2.7.0 Accepted')"
      ]
     },
     "execution_count": 28,
     "metadata": {},
     "output_type": "execute_result"
    }
   ],
   "source": [
    "# Log in to email account\n",
    "smtpObj = smtplib.SMTP_SSL('smtp.gmail.com', 465)\n",
    "smtpObj.ehlo()\n",
    "smtpObj.login('zaur1991@gmail.com', 'ppvilixxmsywfvvb')"
   ]
  },
  {
   "cell_type": "code",
   "execution_count": 29,
   "metadata": {},
   "outputs": [
    {
     "name": "stdout",
     "output_type": "stream",
     "text": [
      "Sending email to zhuseynov@azercell.com...\n"
     ]
    },
    {
     "data": {
      "text/plain": [
       "(221, b'2.0.0 closing connection c8-v6sm9348523wrn.43 - gsmtp')"
      ]
     },
     "execution_count": 29,
     "metadata": {},
     "output_type": "execute_result"
    }
   ],
   "source": [
    "#Send out reminder emails.\n",
    "for name, email in unpaidMembers.items():\n",
    "    body = 'Subject: %s dues unpaid. \\nDear %s,\\nRecords show that you have not paid dues for %s. \\\n",
    "Please make this payment as soon as possible. Thank you!' % (latestMonth, name, latestMonth)\n",
    "    print('Sending email to %s...' % email)\n",
    "    sendmailStatus = smtpObj.sendmail('zaur1991@gmail.com', email, body)\n",
    "    \n",
    "    if sendmailStatus != {}:\n",
    "        print('There was a problem sending email to %s: %s' % (email, sendmailStatus))\n",
    "smtpObj.quit()"
   ]
  },
  {
   "cell_type": "code",
   "execution_count": null,
   "metadata": {},
   "outputs": [],
   "source": []
  }
 ],
 "metadata": {
  "kernelspec": {
   "display_name": "Python 3",
   "language": "python",
   "name": "python3"
  },
  "language_info": {
   "codemirror_mode": {
    "name": "ipython",
    "version": 3
   },
   "file_extension": ".py",
   "mimetype": "text/x-python",
   "name": "python",
   "nbconvert_exporter": "python",
   "pygments_lexer": "ipython3",
   "version": "3.6.1"
  }
 },
 "nbformat": 4,
 "nbformat_minor": 2
}
