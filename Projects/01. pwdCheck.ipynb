{
 "cells": [
  {
   "cell_type": "code",
   "execution_count": 3,
   "metadata": {},
   "outputs": [],
   "source": [
    "import re"
   ]
  },
  {
   "cell_type": "code",
   "execution_count": 91,
   "metadata": {},
   "outputs": [],
   "source": [
    "password = 'AZERCELL3'"
   ]
  },
  {
   "cell_type": "code",
   "execution_count": 32,
   "metadata": {},
   "outputs": [],
   "source": [
    "check1 = re.compile(r'''(\n",
    "                        [a-zA-Z0-9]{9,}\n",
    "                        )''', re.VERBOSE)"
   ]
  },
  {
   "cell_type": "code",
   "execution_count": 9,
   "metadata": {},
   "outputs": [],
   "source": [
    "check2 = re.compile(r'''(\n",
    "                        [a-z]+\n",
    "                        )''', re.VERBOSE)"
   ]
  },
  {
   "cell_type": "code",
   "execution_count": 11,
   "metadata": {},
   "outputs": [],
   "source": [
    "check3 = re.compile(r'''(\n",
    "                        [A-Z]+\n",
    "                        )''', re.VERBOSE)"
   ]
  },
  {
   "cell_type": "code",
   "execution_count": 13,
   "metadata": {},
   "outputs": [],
   "source": [
    "check4 = re.compile(r'''(\n",
    "                        [0-9]+\n",
    "                        )''', re.VERBOSE)"
   ]
  },
  {
   "cell_type": "code",
   "execution_count": 89,
   "metadata": {},
   "outputs": [],
   "source": [
    "def pwdCheck(text):\n",
    "    if check1.search(text) != None:\n",
    "        pass\n",
    "    else:\n",
    "        return 'Password must be at least 9 symbols!'\n",
    "    if check2.search(text) != None:\n",
    "        pass\n",
    "    else:\n",
    "        return 'Password must contain at least 1 lowercase letter!'\n",
    "    if check3.search(text) != None:\n",
    "        pass\n",
    "    else:\n",
    "        return 'Password must contain at least 1 UPPERCASE letter!'\n",
    "    if check4.search(text) != None:\n",
    "        pass\n",
    "    else:\n",
    "        return 'Password must contain at least 1 digit!'\n",
    "    return 'Password is OK'"
   ]
  },
  {
   "cell_type": "code",
   "execution_count": 92,
   "metadata": {},
   "outputs": [
    {
     "data": {
      "text/plain": [
       "'Password must contain at least 1 lowercase letter!'"
      ]
     },
     "execution_count": 92,
     "metadata": {},
     "output_type": "execute_result"
    }
   ],
   "source": [
    "pwdCheck(password)"
   ]
  }
 ],
 "metadata": {
  "kernelspec": {
   "display_name": "Python 3",
   "language": "python",
   "name": "python3"
  },
  "language_info": {
   "codemirror_mode": {
    "name": "ipython",
    "version": 3
   },
   "file_extension": ".py",
   "mimetype": "text/x-python",
   "name": "python",
   "nbconvert_exporter": "python",
   "pygments_lexer": "ipython3",
   "version": "3.6.0"
  }
 },
 "nbformat": 4,
 "nbformat_minor": 2
}
