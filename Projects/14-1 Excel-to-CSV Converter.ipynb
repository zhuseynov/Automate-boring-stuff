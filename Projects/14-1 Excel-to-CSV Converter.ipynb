{
 "cells": [
  {
   "cell_type": "code",
   "execution_count": 1,
   "metadata": {},
   "outputs": [],
   "source": [
    "import openpyxl, csv, os\n",
    "from openpyxl.utils import get_column_letter"
   ]
  },
  {
   "cell_type": "code",
   "execution_count": 4,
   "metadata": {},
   "outputs": [
    {
     "name": "stdout",
     "output_type": "stream",
     "text": [
      "Opening test2.xlsx\n",
      "Creating test2_Sheet.csv file\n",
      "Extracting data from Sheet\n",
      "Closing csv file\n",
      "Opening text.xlsx\n",
      "Creating text_Sheet.csv file\n",
      "Extracting data from Sheet\n",
      "Closing csv file\n",
      "Creating text_Sheet2.csv file\n",
      "Extracting data from Sheet2\n",
      "Closing csv file\n",
      "Creating text_Inverted table.csv file\n",
      "Extracting data from Inverted table\n",
      "Closing csv file\n",
      "Creating text_Inverted table1.csv file\n",
      "Extracting data from Inverted table1\n",
      "Closing csv file\n"
     ]
    }
   ],
   "source": [
    "# Loop through the working directory and finding all xlsx files\n",
    "for excelFile in os.listdir():\n",
    "    if not excelFile.endswith('.xlsx'):\n",
    "        continue\n",
    "    # Open each file and loop through each sheet\n",
    "    print('Opening',excelFile)\n",
    "    wb = openpyxl.load_workbook(excelFile)\n",
    "    for sheetName in wb.sheetnames:\n",
    "        print('Creating {0}_{1}.csv file'.format(excelFile[:-5], sheetName))\n",
    "        outputFile = open(excelFile[:-5] + '_' + sheetName + '.csv', 'w', newline='')\n",
    "        outWriter = csv.writer(outputFile)\n",
    "        sheet = wb[sheetName]\n",
    "        print('Extracting data from', sheetName)\n",
    "        for row in range(1, sheet.max_row + 1):\n",
    "            tempLst = []\n",
    "            for col in range(1, sheet.max_column + 1):\n",
    "                tempLst.append(sheet[get_column_letter(col) + str(row)].value)\n",
    "            outWriter.writerow(tempLst)\n",
    "        print('Closing csv file')\n",
    "        outputFile.close()"
   ]
  },
  {
   "cell_type": "code",
   "execution_count": null,
   "metadata": {},
   "outputs": [],
   "source": []
  }
 ],
 "metadata": {
  "kernelspec": {
   "display_name": "Python 3",
   "language": "python",
   "name": "python3"
  },
  "language_info": {
   "codemirror_mode": {
    "name": "ipython",
    "version": 3
   },
   "file_extension": ".py",
   "mimetype": "text/x-python",
   "name": "python",
   "nbconvert_exporter": "python",
   "pygments_lexer": "ipython3",
   "version": "3.6.1"
  }
 },
 "nbformat": 4,
 "nbformat_minor": 2
}
