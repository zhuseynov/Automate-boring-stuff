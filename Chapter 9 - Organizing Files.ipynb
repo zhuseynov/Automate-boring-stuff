{
 "cells": [
  {
   "cell_type": "code",
   "execution_count": 2,
   "metadata": {},
   "outputs": [],
   "source": [
    "import shutil, os"
   ]
  },
  {
   "cell_type": "code",
   "execution_count": 3,
   "metadata": {},
   "outputs": [
    {
     "data": {
      "text/plain": [
       "'C:\\\\Users\\\\zhuseynov\\\\Documents\\\\GitHub\\\\Automate-boring-stuff'"
      ]
     },
     "execution_count": 3,
     "metadata": {},
     "output_type": "execute_result"
    }
   ],
   "source": [
    "os.getcwd()"
   ]
  },
  {
   "cell_type": "code",
   "execution_count": 4,
   "metadata": {},
   "outputs": [],
   "source": [
    "os.chdir('C:\\\\')"
   ]
  },
  {
   "cell_type": "markdown",
   "metadata": {},
   "source": [
    "### Copying Files and Folders"
   ]
  },
  {
   "cell_type": "code",
   "execution_count": 5,
   "metadata": {},
   "outputs": [
    {
     "data": {
      "text/plain": [
       "'C:\\\\delicious\\\\data.txt'"
      ]
     },
     "execution_count": 5,
     "metadata": {},
     "output_type": "execute_result"
    }
   ],
   "source": [
    "shutil.copy(\"C:\\\\Users\\\\zhuseynov\\\\Documents\\\\GitHub\\\\Automate-boring-stuff\\\\05-2. Mad Libs\\\\data.txt\",'C:\\\\delicious')"
   ]
  },
  {
   "cell_type": "code",
   "execution_count": 6,
   "metadata": {},
   "outputs": [],
   "source": [
    "os.chdir('D:\\\\')"
   ]
  },
  {
   "cell_type": "code",
   "execution_count": 7,
   "metadata": {},
   "outputs": [
    {
     "data": {
      "text/plain": [
       "'C:\\\\delicious\\\\eggs2.txt'"
      ]
     },
     "execution_count": 7,
     "metadata": {},
     "output_type": "execute_result"
    }
   ],
   "source": [
    "shutil.copy('eggs.txt', 'C:\\\\delicious\\\\eggs2.txt') #copy folder to new location with new name"
   ]
  },
  {
   "cell_type": "code",
   "execution_count": 9,
   "metadata": {
    "scrolled": true
   },
   "outputs": [
    {
     "data": {
      "text/plain": [
       "'C:\\\\delicious_backup'"
      ]
     },
     "execution_count": 9,
     "metadata": {},
     "output_type": "execute_result"
    }
   ],
   "source": [
    "shutil.copytree('C:\\\\delicious', 'C:\\\\delicious_backup') #copy folder with all its contain"
   ]
  },
  {
   "cell_type": "markdown",
   "metadata": {},
   "source": [
    "### Moving and Renaming Files and Folders"
   ]
  },
  {
   "cell_type": "code",
   "execution_count": 10,
   "metadata": {
    "scrolled": false
   },
   "outputs": [
    {
     "data": {
      "text/plain": [
       "'C:\\\\eggs\\\\data.txt'"
      ]
     },
     "execution_count": 10,
     "metadata": {},
     "output_type": "execute_result"
    }
   ],
   "source": [
    "shutil.move('C:\\\\delicious\\\\data.txt','C:\\\\eggs') #move file to new location"
   ]
  },
  {
   "cell_type": "code",
   "execution_count": 12,
   "metadata": {
    "scrolled": true
   },
   "outputs": [
    {
     "data": {
      "text/plain": [
       "'C:\\\\eggs\\\\data_backup.txt'"
      ]
     },
     "execution_count": 12,
     "metadata": {},
     "output_type": "execute_result"
    }
   ],
   "source": [
    "shutil.move('C:\\\\delicious\\\\data.txt','C:\\\\eggs\\\\data_backup.txt') #move file to new location with new name"
   ]
  },
  {
   "cell_type": "code",
   "execution_count": 15,
   "metadata": {
    "scrolled": true
   },
   "outputs": [
    {
     "data": {
      "text/plain": [
       "'C:\\\\eggs_backup'"
      ]
     },
     "execution_count": 15,
     "metadata": {},
     "output_type": "execute_result"
    }
   ],
   "source": [
    "shutil.move('C:\\\\delicious\\\\eggs2.txt','C:\\\\eggs_backup')"
   ]
  },
  {
   "cell_type": "markdown",
   "metadata": {},
   "source": [
    "### Permanently Deleting Files and Folders"
   ]
  },
  {
   "cell_type": "markdown",
   "metadata": {},
   "source": [
    "#os.unlink(path) - will delete the file at path\n",
    "#os.rmdir(path) - will delete folder. The folder must be empty\n",
    "#shutil.rmtree(path)  - will remove the folder and all files and folders there."
   ]
  },
  {
   "cell_type": "code",
   "execution_count": 17,
   "metadata": {},
   "outputs": [],
   "source": [
    "import os"
   ]
  },
  {
   "cell_type": "code",
   "execution_count": 19,
   "metadata": {},
   "outputs": [
    {
     "data": {
      "text/plain": [
       "'D:\\\\'"
      ]
     },
     "execution_count": 19,
     "metadata": {},
     "output_type": "execute_result"
    }
   ],
   "source": [
    "os.getcwd()"
   ]
  },
  {
   "cell_type": "code",
   "execution_count": 20,
   "metadata": {},
   "outputs": [],
   "source": [
    "for filename in os.listdir():\n",
    "    if filename.endswith('.rtx'):\n",
    "        os.unlink(filename)"
   ]
  },
  {
   "cell_type": "code",
   "execution_count": 22,
   "metadata": {},
   "outputs": [],
   "source": [
    "#it wold be better first check folder contain\n",
    "for filename in os.listdir():\n",
    "    if filename.endswith('.txT'):\n",
    "        print(filename)\n",
    "        #os.unlink(filename)"
   ]
  },
  {
   "cell_type": "markdown",
   "metadata": {},
   "source": [
    "### Safe Deletes with the send2trash Module"
   ]
  },
  {
   "cell_type": "code",
   "execution_count": 23,
   "metadata": {},
   "outputs": [],
   "source": [
    "import send2trash"
   ]
  },
  {
   "cell_type": "code",
   "execution_count": 24,
   "metadata": {},
   "outputs": [],
   "source": [
    "baconFile = open('bacon.txt','a')"
   ]
  },
  {
   "cell_type": "code",
   "execution_count": 25,
   "metadata": {},
   "outputs": [
    {
     "data": {
      "text/plain": [
       "25"
      ]
     },
     "execution_count": 25,
     "metadata": {},
     "output_type": "execute_result"
    }
   ],
   "source": [
    "baconFile.write('Bacon is nhot a vegetable')"
   ]
  },
  {
   "cell_type": "code",
   "execution_count": 26,
   "metadata": {},
   "outputs": [],
   "source": [
    "baconFile.close()"
   ]
  },
  {
   "cell_type": "code",
   "execution_count": 27,
   "metadata": {},
   "outputs": [],
   "source": [
    "send2trash.send2trash('bacon.txt')"
   ]
  },
  {
   "cell_type": "markdown",
   "metadata": {},
   "source": [
    "### Walking a Directory Tree"
   ]
  },
  {
   "cell_type": "code",
   "execution_count": 28,
   "metadata": {},
   "outputs": [],
   "source": [
    "import os"
   ]
  },
  {
   "cell_type": "code",
   "execution_count": 48,
   "metadata": {},
   "outputs": [
    {
     "name": "stdout",
     "output_type": "stream",
     "text": [
      "The current folder is C:\\delicious\n",
      "SUBFOLDER OF C:\\delicious: delicious_backup\n",
      "SUBFOLDER OF C:\\delicious: eggs\n",
      "FILE INSIDE C:\\delicious: data.txt\n",
      "\n",
      "The current folder is C:\\delicious\\delicious_backup\n",
      "SUBFOLDER OF C:\\delicious\\delicious_backup: archieve\n",
      "FILE INSIDE C:\\delicious\\delicious_backup: data.txt\n",
      "FILE INSIDE C:\\delicious\\delicious_backup: eggs2.txt\n",
      "\n",
      "The current folder is C:\\delicious\\delicious_backup\\archieve\n",
      "\n",
      "The current folder is C:\\delicious\\eggs\n",
      "FILE INSIDE C:\\delicious\\eggs: data.txt\n",
      "FILE INSIDE C:\\delicious\\eggs: data_backup.txt\n",
      "\n"
     ]
    }
   ],
   "source": [
    "for folderName, subfolders, filenames in os.walk('C:\\\\delicious'):\n",
    "    print('The current folder is ' + folderName)\n",
    "    \n",
    "    for subfolder in subfolders:\n",
    "        print('SUBFOLDER OF ' + folderName + ': ' + subfolder)\n",
    "        \n",
    "    for filename in filenames:\n",
    "        print('FILE INSIDE ' + folderName + ': ' + filename)\n",
    "        \n",
    "    print('')"
   ]
  }
 ],
 "metadata": {
  "kernelspec": {
   "display_name": "Python 3",
   "language": "python",
   "name": "python3"
  },
  "language_info": {
   "codemirror_mode": {
    "name": "ipython",
    "version": 3
   },
   "file_extension": ".py",
   "mimetype": "text/x-python",
   "name": "python",
   "nbconvert_exporter": "python",
   "pygments_lexer": "ipython3",
   "version": "3.6.1"
  }
 },
 "nbformat": 4,
 "nbformat_minor": 2
}
