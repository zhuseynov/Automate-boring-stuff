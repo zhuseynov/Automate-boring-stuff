{
 "cells": [
  {
   "cell_type": "code",
   "execution_count": 72,
   "metadata": {},
   "outputs": [],
   "source": [
    "import os, re, zipfile,shutil"
   ]
  },
  {
   "cell_type": "code",
   "execution_count": 73,
   "metadata": {
    "scrolled": true
   },
   "outputs": [
    {
     "data": {
      "text/plain": [
       "'C:\\\\Users\\\\zhuseynov\\\\Documents\\\\GitHub\\\\Automate-boring-stuff\\\\08. Backup selected files'"
      ]
     },
     "execution_count": 73,
     "metadata": {},
     "output_type": "execute_result"
    }
   ],
   "source": [
    "os.getcwd()"
   ]
  },
  {
   "cell_type": "code",
   "execution_count": 75,
   "metadata": {},
   "outputs": [],
   "source": [
    "os.mkdir('..\\\\08. Backup selected files\\\\temp')"
   ]
  },
  {
   "cell_type": "code",
   "execution_count": 76,
   "metadata": {},
   "outputs": [],
   "source": [
    "AbsPath = os.path.abspath('..\\\\08. Backup selected files\\\\temp')"
   ]
  },
  {
   "cell_type": "code",
   "execution_count": 83,
   "metadata": {},
   "outputs": [],
   "source": [
    "backUpFile = zipfile.ZipFile('..\\\\08. Backup selected files\\\\backup.zip', 'w')"
   ]
  },
  {
   "cell_type": "code",
   "execution_count": 78,
   "metadata": {},
   "outputs": [],
   "source": [
    "fileType = re.compile(r'((.*?)((.py)|(.txt)))')"
   ]
  },
  {
   "cell_type": "code",
   "execution_count": 79,
   "metadata": {
    "scrolled": true
   },
   "outputs": [],
   "source": [
    "number = 1\n",
    "for folderNames,subfolders, filenames in os.walk('..\\\\08. Backup selected files\\\\testbook'):\n",
    "    for file in filenames:\n",
    "        if file.endswith('.py') or file.endswith('.txt'):\n",
    "            if file not in os.listdir('..\\\\08. Backup selected files\\\\temp'):\n",
    "                shutil.copy(os.path.join(folderNames,file), '..\\\\08. Backup selected files\\\\temp')\n",
    "            else:\n",
    "                fileParts = fileType.search(file)\n",
    "                shutil.copy(os.path.join(folderNames,file), \\\n",
    "                            os.path.join('..\\\\08. Backup selected files\\\\temp', \\\n",
    "                                         fileParts.group(2) + '-' + str(number) + fileParts.group(3)))\n",
    "                number += 1"
   ]
  },
  {
   "cell_type": "code",
   "execution_count": 84,
   "metadata": {},
   "outputs": [],
   "source": [
    "for file in os.listdir('..\\\\08. Backup selected files\\\\temp'):\n",
    "    backUpFile.write(os.path.join(AbsPath,file))"
   ]
  },
  {
   "cell_type": "code",
   "execution_count": 85,
   "metadata": {},
   "outputs": [],
   "source": [
    "backUpFile.close()"
   ]
  },
  {
   "cell_type": "code",
   "execution_count": null,
   "metadata": {},
   "outputs": [],
   "source": []
  }
 ],
 "metadata": {
  "kernelspec": {
   "display_name": "Python 3",
   "language": "python",
   "name": "python3"
  },
  "language_info": {
   "codemirror_mode": {
    "name": "ipython",
    "version": 3
   },
   "file_extension": ".py",
   "mimetype": "text/x-python",
   "name": "python",
   "nbconvert_exporter": "python",
   "pygments_lexer": "ipython3",
   "version": "3.6.1"
  }
 },
 "nbformat": 4,
 "nbformat_minor": 2
}
