{
 "cells": [
  {
   "cell_type": "code",
   "execution_count": 1,
   "metadata": {},
   "outputs": [],
   "source": [
    "#! python3\n",
    "# renameDates - Renames filenames with American MM-DD-YYYY date format\n",
    "# to European DD-MM-YYYY."
   ]
  },
  {
   "cell_type": "code",
   "execution_count": 2,
   "metadata": {},
   "outputs": [],
   "source": [
    "import os, shutil, re"
   ]
  },
  {
   "cell_type": "code",
   "execution_count": 3,
   "metadata": {},
   "outputs": [],
   "source": [
    "#Cerate a regex that matches files with the American date format.\n",
    "datePattern = re.compile('''^(.*?)        # all text before the date\n",
    "                        ((0|1)?\\d)-       # one or two digits for the month\n",
    "                        ((0|1|2|3)?\\d)-   # one or two digits for the day\n",
    "                        ((19|20)\\d\\d)     # four digits for the year\n",
    "                        (.*?)$            # all text after the date\n",
    "                        ''', re.VERBOSE)"
   ]
  },
  {
   "cell_type": "code",
   "execution_count": 4,
   "metadata": {},
   "outputs": [],
   "source": [
    "# Loop over the files in the working directory.\n",
    "for amerFilename in os.listdir('.'):\n",
    "    mo = datePattern.search(amerFilename)\n",
    "    \n",
    "    #Skip files without a date.\n",
    "    if mo == None:\n",
    "        continue\n",
    "    #Get the different parts of the filename.\n",
    "    beforePart = mo.group(1)\n",
    "    monthPart =  mo.group(2)\n",
    "    dayPart =    mo.group(4)\n",
    "    yearPart =   mo.group(6)\n",
    "    afterPart =  mo.group(8)\n",
    "    \n",
    "    # Form the European-style filenames.\n",
    "    euroFilename = beforePart + dayPart + '-' + monthPart + '-' + yearPart + afterPart\n",
    "    \n",
    "    # Get the full, absolute file paths.\n",
    "    absWorkingDir = os.path.abspath('.')\n",
    "    amerFilename = os.path.join(absWorkingDir, amerFilename)\n",
    "    euroFilename = os.path.join(absWorkingDir, euroFilename)\n",
    "    \n",
    "    # Rename the files.\n",
    "    print('Renaming \"%s\" to \"%s\"...' % (amerFilename, euroFilename))\n",
    "    #shutil.move(amerFilename, euroFilename)    #uncomment after testing"
   ]
  }
 ],
 "metadata": {
  "kernelspec": {
   "display_name": "Python 3",
   "language": "python",
   "name": "python3"
  },
  "language_info": {
   "codemirror_mode": {
    "name": "ipython",
    "version": 3
   },
   "file_extension": ".py",
   "mimetype": "text/x-python",
   "name": "python",
   "nbconvert_exporter": "python",
   "pygments_lexer": "ipython3",
   "version": "3.6.1"
  }
 },
 "nbformat": 4,
 "nbformat_minor": 2
}
