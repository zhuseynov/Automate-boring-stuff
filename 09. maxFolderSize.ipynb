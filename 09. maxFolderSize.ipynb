{
 "cells": [
  {
   "cell_type": "code",
   "execution_count": 2,
   "metadata": {},
   "outputs": [],
   "source": [
    "import os"
   ]
  },
  {
   "cell_type": "code",
   "execution_count": 159,
   "metadata": {},
   "outputs": [],
   "source": [
    "def getMaxSize(folder):\n",
    "    \n",
    "    for folders, subfolders, files in os.walk(folder):\n",
    "        tempSize = 0\n",
    "        folderName = ''\n",
    "        size = 0\n",
    "        for file in files:\n",
    "            tempSize += os.path.getsize(os.path.join(folders,file))\n",
    "            if tempSize > size:\n",
    "                folderName = folders\n",
    "                size = tempSize\n",
    "    return ('%s = %.2f' % (folderName,size/1024/1024))"
   ]
  },
  {
   "cell_type": "code",
   "execution_count": 160,
   "metadata": {},
   "outputs": [
    {
     "data": {
      "text/plain": [
       "'D:\\\\Desktop\\\\pictures\\\\Max Size = 135.13'"
      ]
     },
     "execution_count": 160,
     "metadata": {},
     "output_type": "execute_result"
    }
   ],
   "source": [
    "getMaxSize(\"D:\\\\Desktop\\\\pictures\")"
   ]
  },
  {
   "cell_type": "code",
   "execution_count": 157,
   "metadata": {},
   "outputs": [],
   "source": [
    "def getMaxCount(folder):\n",
    "\n",
    "    for folders, subfolders, files in os.walk(folder):\n",
    "        tempCount = 0\n",
    "        folderName = ''\n",
    "        count = 0\n",
    "        tempCount = len(os.listdir(folders))\n",
    "        if tempCount > count:\n",
    "            folderName = folders\n",
    "            count = tempCount\n",
    "    return ('%s = %d' % (folderName, count))"
   ]
  },
  {
   "cell_type": "code",
   "execution_count": 158,
   "metadata": {},
   "outputs": [
    {
     "data": {
      "text/plain": [
       "'D:\\\\Desktop\\\\pictures\\\\Max Size = 88'"
      ]
     },
     "execution_count": 158,
     "metadata": {},
     "output_type": "execute_result"
    }
   ],
   "source": [
    "getMaxCount(\"D:\\\\Desktop\\\\pictures\")"
   ]
  },
  {
   "cell_type": "code",
   "execution_count": 142,
   "metadata": {},
   "outputs": [],
   "source": [
    "def getFoldersOver(folder,size):\n",
    "\n",
    "    for folders, subfolders, files in os.walk(folder):\n",
    "        folderSize = 0\n",
    "        for file in files:\n",
    "            folderSize += os.path.getsize(os.path.join(folders,file))\n",
    "        if folderSize >= size*1024*1024:\n",
    "            print('%s = %.2f mb' % (folders,folderSize/1024/1024))"
   ]
  },
  {
   "cell_type": "code",
   "execution_count": 143,
   "metadata": {},
   "outputs": [
    {
     "name": "stdout",
     "output_type": "stream",
     "text": [
      "D:\\Desktop\\pictures\\Max Size = 135.13 mb\n"
     ]
    }
   ],
   "source": [
    "getFoldersOver(\"D:\\\\Desktop\\\\pictures\",80)"
   ]
  },
  {
   "cell_type": "code",
   "execution_count": 144,
   "metadata": {},
   "outputs": [],
   "source": [
    "def getFilesOver(folder,size):\n",
    "\n",
    "    for folders, subfolders, files in os.walk(folder):\n",
    "        for file in files:\n",
    "            if os.path.getsize(os.path.join(folders,file))/1024/1024 >= size:\n",
    "                print('%s = %.2f mb' % (os.path.join(folders,file), os.path.getsize(os.path.join(folders,file))/1024/1024))  "
   ]
  },
  {
   "cell_type": "code",
   "execution_count": 145,
   "metadata": {},
   "outputs": [
    {
     "name": "stdout",
     "output_type": "stream",
     "text": [
      "D:\\Desktop\\pictures\\rlukeman_skye.jpg = 9.54 mb\n",
      "D:\\Desktop\\pictures\\Linux\\arestifo_hill.jpg = 4.03 mb\n",
      "D:\\Desktop\\pictures\\Linux\\rlukeman_skye.jpg = 9.54 mb\n",
      "D:\\Desktop\\pictures\\Max Size\\arestifo_hill (2).jpg = 4.03 mb\n",
      "D:\\Desktop\\pictures\\Max Size\\arestifo_hill.jpg = 4.03 mb\n",
      "D:\\Desktop\\pictures\\Max Size\\rlukeman_skye (2).jpg = 9.54 mb\n",
      "D:\\Desktop\\pictures\\Max Size\\rlukeman_skye.jpg = 9.54 mb\n"
     ]
    }
   ],
   "source": [
    "getFilesOver(\"D:\\\\Desktop\\\\pictures\",4)"
   ]
  },
  {
   "cell_type": "code",
   "execution_count": null,
   "metadata": {},
   "outputs": [],
   "source": []
  }
 ],
 "metadata": {
  "kernelspec": {
   "display_name": "Python 3",
   "language": "python",
   "name": "python3"
  },
  "language_info": {
   "codemirror_mode": {
    "name": "ipython",
    "version": 3
   },
   "file_extension": ".py",
   "mimetype": "text/x-python",
   "name": "python",
   "nbconvert_exporter": "python",
   "pygments_lexer": "ipython3",
   "version": "3.6.1"
  }
 },
 "nbformat": 4,
 "nbformat_minor": 2
}
